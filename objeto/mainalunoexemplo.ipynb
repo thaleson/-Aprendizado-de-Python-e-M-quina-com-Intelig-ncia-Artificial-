{
 "cells": [
  {
   "cell_type": "code",
   "execution_count": 1,
   "source": [
    "from classes import Pessoa, Aluno, Cliente,ClienteVip"
   ],
   "outputs": [],
   "metadata": {}
  },
  {
   "cell_type": "code",
   "execution_count": 2,
   "source": [
    "pessoa=Pessoa(\"eu\",26)"
   ],
   "outputs": [],
   "metadata": {}
  },
  {
   "cell_type": "code",
   "execution_count": 3,
   "source": [
    "pessoa.falaoi()"
   ],
   "outputs": [
    {
     "output_type": "stream",
     "name": "stdout",
     "text": [
      " Pessoa falou oi\n"
     ]
    }
   ],
   "metadata": {}
  },
  {
   "cell_type": "code",
   "execution_count": 4,
   "source": [
    "aluno=Aluno(\"Luana\",30)\n",
    "cliente=Cliente(\"avelino\",60)\n",
    "clientevip=ClienteVip(\"Zuckberg\",29)"
   ],
   "outputs": [],
   "metadata": {}
  },
  {
   "cell_type": "code",
   "execution_count": 5,
   "source": [
    "pessoa.falaoi()\n",
    "pessoa.falaidade()\n",
    "print()\n",
    "aluno.falaoi()\n",
    "aluno.falaidade()\n",
    "aluno.bebendo()\n",
    "print()\n",
    "cliente.falaoi()\n",
    "cliente.falaidade()\n",
    "cliente.comprando()\n",
    "print()\n",
    "clientevip.falaoi()\n",
    "clientevip.falaidade()\n",
    "clientevip.comprando()\n",
    ""
   ],
   "outputs": [
    {
     "output_type": "stream",
     "name": "stdout",
     "text": [
      " Pessoa falou oi\n",
      "minha idade é 26\n",
      "\n",
      " Aluno falou oi\n",
      "minha idade é 30\n",
      " Luana esta bebendo...\n",
      "\n",
      " Cliente falou oi\n",
      "minha idade é 60\n",
      " Cliente  comprando....\n",
      "\n",
      " ClienteVip falou oi\n",
      "minha idade é 29\n",
      " ClienteVip  comprando....\n"
     ]
    }
   ],
   "metadata": {}
  },
  {
   "cell_type": "code",
   "execution_count": 7,
   "source": [
    "cliente.ligandoocarro()"
   ],
   "outputs": [
    {
     "output_type": "error",
     "ename": "AttributeError",
     "evalue": "'Cliente' object has no attribute 'ligandoocarro'",
     "traceback": [
      "\u001b[1;31m---------------------------------------------------------------------------\u001b[0m",
      "\u001b[1;31mAttributeError\u001b[0m                            Traceback (most recent call last)",
      "Cell \u001b[1;32mIn[7], line 1\u001b[0m\n\u001b[1;32m----> 1\u001b[0m cliente\u001b[39m.\u001b[39;49mligandoocarro()\n",
      "\u001b[1;31mAttributeError\u001b[0m: 'Cliente' object has no attribute 'ligandoocarro'"
     ]
    }
   ],
   "metadata": {}
  },
  {
   "cell_type": "code",
   "execution_count": 8,
   "source": [
    "from classes import Pessoa, Aluno, Cliente,ClienteVip\n",
    "\n",
    "\n",
    "cliente=Cliente(\"joao\",26)\n",
    "\n",
    "cliente.ligandoocarro()"
   ],
   "outputs": [
    {
     "output_type": "error",
     "ename": "AttributeError",
     "evalue": "'Cliente' object has no attribute 'ligandoocarro'",
     "traceback": [
      "\u001b[1;31m---------------------------------------------------------------------------\u001b[0m",
      "\u001b[1;31mAttributeError\u001b[0m                            Traceback (most recent call last)",
      "Cell \u001b[1;32mIn[8], line 6\u001b[0m\n\u001b[0;32m      1\u001b[0m \u001b[39mfrom\u001b[39;00m \u001b[39mclasses\u001b[39;00m \u001b[39mimport\u001b[39;00m Pessoa, Aluno, Cliente,ClienteVip\n\u001b[0;32m      4\u001b[0m cliente\u001b[39m=\u001b[39mCliente(\u001b[39m\"\u001b[39m\u001b[39mjoao\u001b[39m\u001b[39m\"\u001b[39m,\u001b[39m26\u001b[39m)\n\u001b[1;32m----> 6\u001b[0m cliente\u001b[39m.\u001b[39;49mligandoocarro()\n",
      "\u001b[1;31mAttributeError\u001b[0m: 'Cliente' object has no attribute 'ligandoocarro'"
     ]
    }
   ],
   "metadata": {}
  },
  {
   "cell_type": "code",
   "execution_count": 9,
   "source": [
    "from classes import Pessoa, Aluno, Cliente,ClienteVip\n",
    "\n",
    "\n",
    "cliente=Cliente(\"joao\",26)\n",
    "\n",
    "cliente.ligandoocarro()"
   ],
   "outputs": [
    {
     "output_type": "error",
     "ename": "AttributeError",
     "evalue": "'Cliente' object has no attribute 'ligandoocarro'",
     "traceback": [
      "\u001b[1;31m---------------------------------------------------------------------------\u001b[0m",
      "\u001b[1;31mAttributeError\u001b[0m                            Traceback (most recent call last)",
      "Cell \u001b[1;32mIn[9], line 6\u001b[0m\n\u001b[0;32m      1\u001b[0m \u001b[39mfrom\u001b[39;00m \u001b[39mclasses\u001b[39;00m \u001b[39mimport\u001b[39;00m Pessoa, Aluno, Cliente,ClienteVip\n\u001b[0;32m      4\u001b[0m cliente\u001b[39m=\u001b[39mCliente(\u001b[39m\"\u001b[39m\u001b[39mjoao\u001b[39m\u001b[39m\"\u001b[39m,\u001b[39m26\u001b[39m)\n\u001b[1;32m----> 6\u001b[0m cliente\u001b[39m.\u001b[39;49mligandoocarro()\n",
      "\u001b[1;31mAttributeError\u001b[0m: 'Cliente' object has no attribute 'ligandoocarro'"
     ]
    }
   ],
   "metadata": {}
  },
  {
   "cell_type": "code",
   "execution_count": 10,
   "source": [
    "from classes import Pessoa, Aluno, Cliente,ClienteVip\n",
    "\n",
    "\n",
    "cliente=Cliente(\"joao\",26)\n",
    "\n",
    "cliente.ligandoocarro()"
   ],
   "outputs": [
    {
     "output_type": "error",
     "ename": "AttributeError",
     "evalue": "'Cliente' object has no attribute 'ligandoocarro'",
     "traceback": [
      "\u001b[1;31m---------------------------------------------------------------------------\u001b[0m",
      "\u001b[1;31mAttributeError\u001b[0m                            Traceback (most recent call last)",
      "Cell \u001b[1;32mIn[10], line 6\u001b[0m\n\u001b[0;32m      1\u001b[0m \u001b[39mfrom\u001b[39;00m \u001b[39mclasses\u001b[39;00m \u001b[39mimport\u001b[39;00m Pessoa, Aluno, Cliente,ClienteVip\n\u001b[0;32m      4\u001b[0m cliente\u001b[39m=\u001b[39mCliente(\u001b[39m\"\u001b[39m\u001b[39mjoao\u001b[39m\u001b[39m\"\u001b[39m,\u001b[39m26\u001b[39m)\n\u001b[1;32m----> 6\u001b[0m cliente\u001b[39m.\u001b[39;49mligandoocarro()\n",
      "\u001b[1;31mAttributeError\u001b[0m: 'Cliente' object has no attribute 'ligandoocarro'"
     ]
    }
   ],
   "metadata": {}
  }
 ],
 "nbformat": 4,
 "nbformat_minor": 2,
 "metadata": {
  "language_info": {
   "codemirror_mode": {
    "name": "ipython",
    "version": 3
   },
   "file_extension": ".py",
   "mimetype": "text/x-python",
   "name": "python",
   "nbconvert_exporter": "python",
   "pygments_lexer": "ipython3",
   "version": 3
  }
 }
}