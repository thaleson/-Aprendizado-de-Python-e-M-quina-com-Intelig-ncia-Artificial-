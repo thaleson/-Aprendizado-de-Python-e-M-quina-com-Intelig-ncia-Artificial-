{
 "cells": [
  {
   "cell_type": "markdown",
   "metadata": {},
   "source": [
    "# PORCENTAGEM DE CADA ALGORITMO/ACERTO\n",
    "\n",
    "\n",
    "**NAIVE CREDIT DATA** \n",
    "**NAIVE ALGORITMO**  \n",
    "**°93.8% DE PRECISÃO**\n",
    "\n",
    "**NAIVE CENSUS**\n",
    "\n",
    "\n",
    "**°47.6%**\n",
    "\n",
    "\n"
   ]
  },
  {
   "cell_type": "markdown",
   "metadata": {},
   "source": [
    "# ARVORE DE DECISÃO \n",
    "\n",
    "**ARVORE DE DECISÃO CREDIT ALGORTIMO**\n",
    "- **Objetivo:** Desenvolver um algoritmo de arvore de decisão para realizar a previs\n",
    "\n",
    "\n",
    "**ACERTO DE °98.2%**\n",
    "\n",
    "**ARVORE CENSUS**\n",
    "\n",
    "**°81% DE ACERTO**\n"
   ]
  },
  {
   "cell_type": "markdown",
   "metadata": {},
   "source": [
    "# **Random Forest algoritmo (melhor opção ate então)**"
   ]
  },
  {
   "cell_type": "markdown",
   "metadata": {},
   "source": [
    "**Base credit random forest**\n",
    "\n",
    "**°98% de acerto**"
   ]
  },
  {
   "cell_type": "markdown",
   "metadata": {},
   "source": [
    "**Base census Random forest**"
   ]
  },
  {
   "cell_type": "markdown",
   "metadata": {},
   "source": [
    "**°85.15% de acerto** "
   ]
  },
  {
   "cell_type": "markdown",
   "metadata": {},
   "source": [
    "# **ACERTOS DO RULES OU MAJORITY LEARNER**\n",
    "\n"
   ]
  },
  {
   "cell_type": "markdown",
   "metadata": {},
   "source": [
    "**Base credit**"
   ]
  },
  {
   "cell_type": "markdown",
   "metadata": {},
   "source": [
    "°85% de acerto"
   ]
  },
  {
   "cell_type": "markdown",
   "metadata": {},
   "source": [
    "**Base Census**"
   ]
  },
  {
   "cell_type": "markdown",
   "metadata": {},
   "source": [
    "°75% de acerto"
   ]
  }
 ],
 "metadata": {
  "kernelspec": {
   "display_name": "env",
   "language": "python",
   "name": "python3"
  },
  "language_info": {
   "codemirror_mode": {
    "name": "ipython",
    "version": 3
   },
   "file_extension": ".py",
   "mimetype": "text/x-python",
   "name": "python",
   "nbconvert_exporter": "python",
   "pygments_lexer": "ipython3",
   "version": "3.12.0"
  }
 },
 "nbformat": 4,
 "nbformat_minor": 2
}
